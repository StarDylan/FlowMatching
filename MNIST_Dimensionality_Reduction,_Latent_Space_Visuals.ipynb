{
  "nbformat": 4,
  "nbformat_minor": 0,
  "metadata": {
    "colab": {
      "provenance": [],
      "authorship_tag": "ABX9TyM13LzsN/6PWmSWa8hC5gdy",
      "include_colab_link": true
    },
    "kernelspec": {
      "name": "python3",
      "display_name": "Python 3"
    },
    "language_info": {
      "name": "python"
    }
  },
  "cells": [
    {
      "cell_type": "markdown",
      "metadata": {
        "id": "view-in-github",
        "colab_type": "text"
      },
      "source": [
        "<a href=\"https://colab.research.google.com/github/StarDylan/FlowMatching/blob/main/MNIST_Dimensionality_Reduction%2C_Latent_Space_Visuals.ipynb\" target=\"_parent\"><img src=\"https://colab.research.google.com/assets/colab-badge.svg\" alt=\"Open In Colab\"/></a>"
      ]
    },
    {
      "cell_type": "markdown",
      "source": [
        "# Download/Install Packages"
      ],
      "metadata": {
        "id": "fHTrbotpjm0J"
      }
    },
    {
      "cell_type": "code",
      "source": [
        "!pip install mnist"
      ],
      "metadata": {
        "id": "aEy7JJOVkCWd"
      },
      "execution_count": null,
      "outputs": []
    },
    {
      "cell_type": "markdown",
      "source": [
        "# Import Libraries"
      ],
      "metadata": {
        "id": "63i43JmOjrCp"
      }
    },
    {
      "cell_type": "code",
      "source": [],
      "metadata": {
        "id": "KfZ9Fgq5kWCq"
      },
      "execution_count": null,
      "outputs": []
    },
    {
      "cell_type": "markdown",
      "source": [
        "# Config"
      ],
      "metadata": {
        "id": "n4r5sz9kjs6x"
      }
    },
    {
      "cell_type": "code",
      "source": [],
      "metadata": {
        "id": "ysvV7xx_jZRM"
      },
      "execution_count": null,
      "outputs": []
    },
    {
      "cell_type": "markdown",
      "source": [
        "# Dimensionality Reduction"
      ],
      "metadata": {
        "id": "TGjWvBKgjuYC"
      }
    },
    {
      "cell_type": "markdown",
      "source": [
        "## PCA"
      ],
      "metadata": {
        "id": "XRvXG4YEj07W"
      }
    },
    {
      "cell_type": "code",
      "source": [],
      "metadata": {
        "id": "lp7nzkG0jxE_"
      },
      "execution_count": null,
      "outputs": []
    },
    {
      "cell_type": "markdown",
      "source": [
        "## Variational autoencoder for further dimensionality reduction\n",
        "Run autoencoder to get information into nicer 2d representation"
      ],
      "metadata": {
        "id": "dnz78MHCj2ZX"
      }
    },
    {
      "cell_type": "code",
      "source": [],
      "metadata": {
        "id": "Q7P43sYckAlZ"
      },
      "execution_count": null,
      "outputs": []
    },
    {
      "cell_type": "markdown",
      "source": [
        "# Visualizations\n",
        "Show samples from that latent space"
      ],
      "metadata": {
        "id": "rss5uJoJkFMl"
      }
    },
    {
      "cell_type": "code",
      "source": [],
      "metadata": {
        "id": "3WuHLqR7kHBf"
      },
      "execution_count": null,
      "outputs": []
    }
  ]
}