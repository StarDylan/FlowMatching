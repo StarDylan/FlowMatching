{
  "nbformat": 4,
  "nbformat_minor": 0,
  "metadata": {
    "colab": {
      "provenance": [],
      "authorship_tag": "ABX9TyO9g4lgCnFAZI0a5eDWcmq3",
      "include_colab_link": true
    },
    "kernelspec": {
      "name": "python3",
      "display_name": "Python 3"
    },
    "language_info": {
      "name": "python"
    }
  },
  "cells": [
    {
      "cell_type": "markdown",
      "metadata": {
        "id": "view-in-github",
        "colab_type": "text"
      },
      "source": [
        "<a href=\"https://colab.research.google.com/github/StarDylan/FlowMatching/blob/main/flow_draft.ipynb\" target=\"_parent\"><img src=\"https://colab.research.google.com/assets/colab-badge.svg\" alt=\"Open In Colab\"/></a>"
      ]
    },
    {
      "cell_type": "markdown",
      "source": [
        "## Part 1: Flow on Frey Dataset"
      ],
      "metadata": {
        "id": "HJT7UGXf6KpW"
      }
    },
    {
      "cell_type": "code",
      "source": [
        "!apt update > /dev/null 2>&1\n",
        "!apt install -y libcairo2-dev libpango1.0-dev ffmpeg > /dev/null 2>&1\n",
        "!pip install manim > /dev/null 2>&1\n",
        "!pip install flow_matching > /dev/null 2>&1\n",
        "!pip install --upgrade numpy scipy > /dev/null 2>&1"
      ],
      "metadata": {
        "colab": {
          "base_uri": "https://localhost:8080/"
        },
        "id": "2WubTS9udTqa",
        "outputId": "af5f8850-b278-429d-9e94-3fad9d17158f"
      },
      "execution_count": 1,
      "outputs": [
        {
          "output_type": "stream",
          "name": "stdout",
          "text": [
            "\u001b[33m\r0% [Working]\u001b[0m\r            \rHit:1 https://cloud.r-project.org/bin/linux/ubuntu jammy-cran40/ InRelease\n",
            "\u001b[33m\r0% [Waiting for headers] [Connecting to security.ubuntu.com (185.125.190.83)] [\u001b[0m\r                                                                               \rHit:2 http://archive.ubuntu.com/ubuntu jammy InRelease\n",
            "Hit:3 https://developer.download.nvidia.com/compute/cuda/repos/ubuntu2204/x86_64  InRelease\n",
            "Hit:4 http://archive.ubuntu.com/ubuntu jammy-updates InRelease\n",
            "Hit:5 http://security.ubuntu.com/ubuntu jammy-security InRelease\n",
            "Hit:6 http://archive.ubuntu.com/ubuntu jammy-backports InRelease\n",
            "Hit:7 https://r2u.stat.illinois.edu/ubuntu jammy InRelease\n",
            "Hit:8 https://ppa.launchpadcontent.net/deadsnakes/ppa/ubuntu jammy InRelease\n",
            "Hit:9 https://ppa.launchpadcontent.net/graphics-drivers/ppa/ubuntu jammy InRelease\n",
            "Hit:10 https://ppa.launchpadcontent.net/ubuntugis/ppa/ubuntu jammy InRelease\n",
            "Reading package lists... Done\n",
            "Building dependency tree... Done\n",
            "Reading state information... Done\n",
            "35 packages can be upgraded. Run 'apt list --upgradable' to see them.\n",
            "\u001b[1;33mW: \u001b[0mSkipping acquire of configured file 'main/source/Sources' as repository 'https://r2u.stat.illinois.edu/ubuntu jammy InRelease' does not seem to provide it (sources.list entry misspelt?)\u001b[0m\n",
            "Reading package lists... Done\n",
            "Building dependency tree... Done\n",
            "Reading state information... Done\n",
            "libcairo2-dev is already the newest version (1.16.0-5ubuntu2).\n",
            "libpango1.0-dev is already the newest version (1.50.6+ds-2ubuntu1).\n",
            "ffmpeg is already the newest version (7:4.4.2-0ubuntu0.22.04.1).\n",
            "0 upgraded, 0 newly installed, 0 to remove and 35 not upgraded.\n"
          ]
        }
      ]
    },
    {
      "cell_type": "code",
      "source": [
        "import numpy as np\n",
        "import tensorflow as tf\n",
        "import tensorflow.keras as keras\n",
        "from tensorflow.keras.utils import get_file\n",
        "from tensorflow.keras import layers\n",
        "import matplotlib as mpl\n",
        "mpl.rc('image', cmap='gray')\n",
        "from matplotlib import pyplot as plt\n",
        "from tqdm.auto import tqdm, trange\n",
        "from scipy.io import loadmat\n",
        "import math\n",
        "import torch"
      ],
      "metadata": {
        "id": "x40RK5WukZ8e"
      },
      "execution_count": 4,
      "outputs": []
    },
    {
      "cell_type": "code",
      "source": [
        "if torch.cuda.is_available():\n",
        "    device = 'cuda:0'\n",
        "    print('Using gpu')\n",
        "else:\n",
        "    device = 'cpu'\n",
        "    print('Using cpu.')"
      ],
      "metadata": {
        "colab": {
          "base_uri": "https://localhost:8080/"
        },
        "id": "RYMpBagZXCDN",
        "outputId": "d916fcc0-efd8-45c3-ce87-9f3b72a55f5f"
      },
      "execution_count": 5,
      "outputs": [
        {
          "output_type": "stream",
          "name": "stdout",
          "text": [
            "Using cpu.\n"
          ]
        }
      ]
    },
    {
      "cell_type": "code",
      "source": [
        "def get_frey_data():\n",
        "  path = get_file('frey_rawface.mat','https://www.dropbox.com/scl/fi/m70sh4ef39pvy01czc63r/frey_rawface.mat?rlkey=5v6meiap55z68ada2roxwxuql&dl=1')\n",
        "  data = np.transpose(loadmat(path)['ff'])\n",
        "  x_train = np.reshape(data,(-1,28,20,1))\n",
        "  x_train = x_train.astype('float32')\n",
        "  x_train /= 255\n",
        "  x_train = x_train * 2 - 1\n",
        "  return x_train[:1800], x_train[1800:]"
      ],
      "metadata": {
        "id": "unHWbQVSjpjm"
      },
      "execution_count": 6,
      "outputs": []
    },
    {
      "cell_type": "code",
      "source": [
        "X_train, X_test = get_frey_data()"
      ],
      "metadata": {
        "id": "LEf2F2uQlMsS",
        "colab": {
          "base_uri": "https://localhost:8080/"
        },
        "outputId": "daf0e25d-99e2-44f0-e415-e0b043c78c38"
      },
      "execution_count": 7,
      "outputs": [
        {
          "output_type": "stream",
          "name": "stdout",
          "text": [
            "Downloading data from https://www.dropbox.com/scl/fi/m70sh4ef39pvy01czc63r/frey_rawface.mat?rlkey=5v6meiap55z68ada2roxwxuql&dl=1\n",
            "\u001b[1m1100584/1100584\u001b[0m \u001b[32m━━━━━━━━━━━━━━━━━━━━\u001b[0m\u001b[37m\u001b[0m \u001b[1m0s\u001b[0m 0us/step\n"
          ]
        }
      ]
    },
    {
      "cell_type": "code",
      "source": [
        "from sklearn.decomposition import KernelPCA\n",
        "import matplotlib.pyplot as plt\n",
        "\n",
        "components = [10, 20, 30, 40, 50, 60, 70, 80, 90, 100, 110, 120, 130, 140, 150]\n",
        "X_train_reduced_sets = []\n",
        "X_train_reconstructed_sets = []\n",
        "errors = []\n",
        "flat_X_train = X_train.reshape(len(X_train), -1)\n",
        "for component in components:\n",
        "  kpca = KernelPCA(n_components=component, fit_inverse_transform=True) # keep top k components that explain 95% fo the variance\n",
        "  X_train_reduced = kpca.fit_transform(flat_X_train) # data transformed via kpca\n",
        "  X_train_reduced_sets.append(X_train_reduced)\n",
        "  X_train_reconstructed = kpca.inverse_transform(X_train_reduced) # data attempted to be reconstructed\n",
        "  X_train_reconstructed_sets.append(X_train_reconstructed)\n",
        "  error = ((flat_X_train - X_train_reconstructed)**2).mean() # get the mean squared error\n",
        "  errors.append(error)\n",
        "\n",
        "# get the index with the min error\n",
        "plt.plot(components, errors)\n",
        "plt.xlabel(\"Num Comp\")\n",
        "plt.ylabel(\"Error\")\n",
        "plt.title(\"KPCA Num Component Comparison\")\n",
        "plt.grid(True)\n",
        "plt.show()"
      ],
      "metadata": {
        "colab": {
          "base_uri": "https://localhost:8080/",
          "height": 472
        },
        "id": "rpPqdUm4etoo",
        "outputId": "916e6359-8512-4dcc-97a0-3982f4c00ad2"
      },
      "execution_count": 8,
      "outputs": [
        {
          "output_type": "display_data",
          "data": {
            "text/plain": [
              "<Figure size 640x480 with 1 Axes>"
            ],
            "image/png": "[encoded data removed]"
          },
          "metadata": {}
        }
      ]
    },
    {
      "cell_type": "code",
      "source": [
        "# choose 100 components because begin to plateau there\n",
        "X_train_reduced = torch.tensor(X_train_reduced_sets[10])\n",
        "X_train_reconstructed = torch.tensor(X_train_reconstructed_sets[10])"
      ],
      "metadata": {
        "id": "x7Xk5EdGrUNl"
      },
      "execution_count": 9,
      "outputs": []
    },
    {
      "cell_type": "code",
      "source": [
        "X_train_reduced.shape"
      ],
      "metadata": {
        "id": "w9WbzDqqUaKT",
        "outputId": "0a8f7923-6feb-4164-c5b5-a726fbf5573a",
        "colab": {
          "base_uri": "https://localhost:8080/"
        }
      },
      "execution_count": 10,
      "outputs": [
        {
          "output_type": "execute_result",
          "data": {
            "text/plain": [
              "torch.Size([1800, 110])"
            ]
          },
          "metadata": {},
          "execution_count": 10
        }
      ]
    },
    {
      "cell_type": "code",
      "source": [
        "print(X_train.shape)\n",
        "for i in range(5):\n",
        "  plt.subplot(1, 5, i+1)\n",
        "  plt.imshow(X_train[i])\n",
        "  plt.axis('off')\n",
        "plt.show()"
      ],
      "metadata": {
        "colab": {
          "base_uri": "https://localhost:8080/",
          "height": 173
        },
        "id": "C9KpxLMrl6EE",
        "outputId": "cb57bdd0-0ac3-4fe4-97ff-a67025437410"
      },
      "execution_count": 11,
      "outputs": [
        {
          "output_type": "stream",
          "name": "stdout",
          "text": [
            "(1800, 28, 20, 1)\n"
          ]
        },
        {
          "output_type": "display_data",
          "data": {
            "text/plain": [
              "<Figure size 640x480 with 5 Axes>"
            ],
            "image/png": "[encoded data removed]"
          },
          "metadata": {}
        }
      ]
    },
    {
      "cell_type": "code",
      "source": [
        "import time\n",
        "import torch\n",
        "\n",
        "from torch import nn, Tensor\n",
        "\n",
        "# flow_matching\n",
        "from flow_matching.path.scheduler import CondOTScheduler\n",
        "from flow_matching.path import AffineProbPath\n",
        "from flow_matching.solver import Solver, ODESolver\n",
        "from flow_matching.utils import ModelWrapper\n",
        "\n",
        "# visualization\n",
        "import matplotlib.pyplot as plt\n",
        "\n",
        "from matplotlib import cm\n",
        "\n",
        "\n",
        "# To avoide meshgrid warning\n",
        "import warnings\n",
        "\n",
        "warnings.filterwarnings(\"ignore\", category=UserWarning, module='torch')"
      ],
      "metadata": {
        "id": "T67MWPGPQrWe"
      },
      "execution_count": 12,
      "outputs": []
    },
    {
      "cell_type": "code",
      "source": [
        "# Activation class\n",
        "class Swish(nn.Module):\n",
        "    def __init__(self):\n",
        "        super().__init__()\n",
        "\n",
        "    def forward(self, x: Tensor) -> Tensor:\n",
        "        return torch.sigmoid(x) * x # custom activation function define by google\n",
        "\n",
        "# Model class\n",
        "class MLP(nn.Module):\n",
        "    def __init__(self, input_dim: int = 2, time_dim: int = 1, hidden_dim: int = 128):\n",
        "        super().__init__()\n",
        "\n",
        "        self.input_dim = input_dim\n",
        "        self.time_dim = time_dim\n",
        "        self.hidden_dim = hidden_dim\n",
        "\n",
        "        self.main = nn.Sequential(\n",
        "            nn.Linear(input_dim+time_dim, hidden_dim),\n",
        "            Swish(),\n",
        "            nn.Linear(hidden_dim, hidden_dim),\n",
        "            Swish(),\n",
        "            nn.Linear(hidden_dim, hidden_dim),\n",
        "            Swish(),\n",
        "            nn.Linear(hidden_dim, hidden_dim),\n",
        "            Swish(),\n",
        "            nn.Linear(hidden_dim, input_dim),\n",
        "            )\n",
        "\n",
        "\n",
        "    def forward(self, x: Tensor, t: Tensor) -> Tensor:\n",
        "        sz = x.size()\n",
        "        x = x.reshape(-1, self.input_dim)\n",
        "        t = t.reshape(-1, self.time_dim).float()\n",
        "\n",
        "        t = t.reshape(-1, 1).expand(x.shape[0], 1)\n",
        "        h = torch.cat([x, t], dim=1)\n",
        "        output = self.main(h)\n",
        "\n",
        "        return output.reshape(*sz)"
      ],
      "metadata": {
        "id": "IS1Fc36hXOjM"
      },
      "execution_count": 13,
      "outputs": []
    },
    {
      "cell_type": "code",
      "source": [
        "X_train_reduced.shape"
      ],
      "metadata": {
        "colab": {
          "base_uri": "https://localhost:8080/"
        },
        "id": "BAaczhbia9f1",
        "outputId": "beb27a1b-1896-4518-836e-eb88c81bd76a"
      },
      "execution_count": 14,
      "outputs": [
        {
          "output_type": "execute_result",
          "data": {
            "text/plain": [
              "torch.Size([1800, 110])"
            ]
          },
          "metadata": {},
          "execution_count": 14
        }
      ]
    },
    {
      "cell_type": "code",
      "source": [
        "# training arguments\n",
        "lr = 0.001\n",
        "batch_size = 32\n",
        "iterations = 20000 # 20001\n",
        "print_every = 1000\n",
        "hidden_dim = 512\n",
        "noise_level = 0.1"
      ],
      "metadata": {
        "id": "_5BYcjwmYJzC"
      },
      "execution_count": 108,
      "outputs": []
    },
    {
      "cell_type": "code",
      "source": [
        "X = X_train_reduced\n",
        "# X = X_train\n",
        "# X = torch.flatten(torch.tensor(X_train), start_dim = 1)"
      ],
      "metadata": {
        "id": "DCM7AeaBiQ9t"
      },
      "execution_count": 115,
      "outputs": []
    },
    {
      "cell_type": "code",
      "source": [
        "# velocity field model init\n",
        "vf = MLP(input_dim=X.shape[1], time_dim=1, hidden_dim=hidden_dim).to(device)\n",
        "\n",
        "# instantiate an affine path object\n",
        "path = AffineProbPath(scheduler=CondOTScheduler())\n",
        "\n",
        "# init optimizer\n",
        "optim = torch.optim.Adam(vf.parameters(), lr=lr)\n",
        "\n",
        "# train\n",
        "start_time = time.time()\n",
        "for i in range(iterations):\n",
        "    optim.zero_grad()\n",
        "\n",
        "    # sample data (user's responsibility): in this case, (X_0,X_1) ~ pi(X_0,X_1) = N(X_0|0,I)q(X_1)\n",
        "    idx = torch.randperm(X.size(0))[:batch_size]\n",
        "    x_1 = X[idx].float()\n",
        "    # print(f\"x_1.shape {x_1.shape}\")\n",
        "    x_0 = x_1 + noise_level * torch.randn_like(x_1)\n",
        "\n",
        "    # sample time (user's responsibility)\n",
        "    t = torch.rand(x_1.shape[0]).to(device)\n",
        "    # print(f\"t.shape {t.shape}\")\n",
        "\n",
        "    # sample probability path\n",
        "    path_sample = path.sample(t=t, x_0=x_0, x_1=x_1)\n",
        "\n",
        "    # flow matching l2 loss\n",
        "    # print(f\"path_sample.x_t {path_sample.x_t.shape}\")\n",
        "    # print(f\"path_sample.t {path_sample.t.shape}\")\n",
        "    # print(f\"path_sample.dx_t {path_sample.dx_t.shape}\")\n",
        "    loss = torch.pow( vf(path_sample.x_t,path_sample.t) - path_sample.dx_t, 2).mean()\n",
        "\n",
        "    # optimizer step\n",
        "    loss.backward() # backward\n",
        "    optim.step() # update\n",
        "\n",
        "    # log loss\n",
        "    if (i+1) % print_every == 0:\n",
        "        elapsed = time.time() - start_time\n",
        "        print('| iter {:6d} | {:5.2f} ms/step | loss {:8.3f} '\n",
        "              .format(i+1, elapsed*1000/print_every, loss.item()))\n",
        "        start_time = time.time()"
      ],
      "metadata": {
        "colab": {
          "base_uri": "https://localhost:8080/"
        },
        "id": "i0XAyiV0XoQg",
        "outputId": "22e85c37-869f-46f0-f656-cc8561ed34c3"
      },
      "execution_count": 116,
      "outputs": [
        {
          "output_type": "stream",
          "name": "stdout",
          "text": [
            "| iter   1000 | 13.35 ms/step | loss    0.010 \n",
            "| iter   2000 | 12.02 ms/step | loss    0.009 \n",
            "| iter   3000 | 12.08 ms/step | loss    0.009 \n",
            "| iter   4000 | 12.00 ms/step | loss    0.008 \n",
            "| iter   5000 | 11.97 ms/step | loss    0.008 \n",
            "| iter   6000 | 12.12 ms/step | loss    0.008 \n",
            "| iter   7000 | 12.06 ms/step | loss    0.008 \n",
            "| iter   8000 | 12.14 ms/step | loss    0.007 \n",
            "| iter   9000 | 12.67 ms/step | loss    0.007 \n",
            "| iter  10000 | 12.28 ms/step | loss    0.007 \n",
            "| iter  11000 | 12.10 ms/step | loss    0.007 \n",
            "| iter  12000 | 12.09 ms/step | loss    0.007 \n",
            "| iter  13000 | 12.08 ms/step | loss    0.006 \n",
            "| iter  14000 | 11.81 ms/step | loss    0.007 \n",
            "| iter  15000 | 11.92 ms/step | loss    0.006 \n",
            "| iter  16000 | 12.06 ms/step | loss    0.007 \n",
            "| iter  17000 | 11.82 ms/step | loss    0.007 \n",
            "| iter  18000 | 12.17 ms/step | loss    0.006 \n",
            "| iter  19000 | 12.09 ms/step | loss    0.005 \n",
            "| iter  20000 | 12.08 ms/step | loss    0.006 \n"
          ]
        }
      ]
    },
    {
      "cell_type": "code",
      "source": [
        "class WrappedModel(ModelWrapper):\n",
        "    def forward(self, x: torch.Tensor, t: torch.Tensor, **extras):\n",
        "        return self.model(x, t)\n",
        "\n",
        "wrapped_vf = WrappedModel(vf)"
      ],
      "metadata": {
        "id": "XlFzwL-Sdwam"
      },
      "execution_count": 117,
      "outputs": []
    },
    {
      "cell_type": "code",
      "source": [
        "# step size for ode solver\n",
        "step_size = 0.05\n",
        "\n",
        "norm = cm.colors.Normalize(vmax=50, vmin=0)\n",
        "\n",
        "eps_time = 1e-2\n",
        "T = torch.linspace(0,1,10)  # sample times\n",
        "T = T.to(device=device)\n",
        "\n",
        "idx = torch.randperm(X.size(0))[:batch_size]\n",
        "x_1 = X[idx].float()\n",
        "x_0 = x_1 + noise_level * torch.randn_like(x_1)\n",
        "x_init = x_0\n",
        "solver = ODESolver(velocity_model=wrapped_vf)  # create an ODESolver class\n",
        "sol = solver.sample(\n",
        "    time_grid=T,\n",
        "    x_init=x_init,\n",
        "    method='midpoint',\n",
        "    step_size=step_size,\n",
        "    return_intermediates=True\n",
        ")  # sample from the model\n",
        "\n"
      ],
      "metadata": {
        "id": "eHQ_RIxFd0XP"
      },
      "execution_count": 118,
      "outputs": []
    },
    {
      "cell_type": "code",
      "source": [
        "T = T.cpu()\n",
        "\n",
        "fig, axs = plt.subplots(1, 10,figsize=(20,20))\n",
        "\n",
        "for i in range(10):\n",
        "    H= axs[i].hist2d(sol[i,:,0], sol[i,:,1], 100, range=((-1, 1), (-1, 1)))\n",
        "\n",
        "    # cmin = torch.quantile(torch.from_numpy(H[0]), 0.01).item()\n",
        "    # cmax = torch.quantile(torch.from_numpy(H[0]), 0.99).item()\n",
        "\n",
        "    # norm = cm.colors.Normalize(vmax=cmax, vmin=cmin)\n",
        "\n",
        "    # _ = axs[i].hist2d(sol[i,:,0], sol[i,:,1], 100, range=((-5,5), (-5,5)), norm=norm)\n",
        "\n",
        "    axs[i].set_aspect('equal')\n",
        "    # axs[i].axis('off')\n",
        "    axs[i].set_title('t= %.2f' % (T[i]))\n",
        "\n",
        "plt.tight_layout()\n",
        "plt.show()"
      ],
      "metadata": {
        "colab": {
          "base_uri": "https://localhost:8080/",
          "height": 218
        },
        "id": "pp9gZndbgvFP",
        "outputId": "80a6c9e3-b411-4009-e899-4bb4c45ea343"
      },
      "execution_count": 119,
      "outputs": [
        {
          "output_type": "display_data",
          "data": {
            "text/plain": [
              "<Figure size 2000x2000 with 10 Axes>"
            ],
            "image/png": "[encoded data removed]"
          },
          "metadata": {}
        }
      ]
    }
  ]
}