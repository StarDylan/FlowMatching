{
  "nbformat": 4,
  "nbformat_minor": 0,
  "metadata": {
    "colab": {
      "provenance": [],
      "collapsed_sections": [
        "63i43JmOjrCp",
        "n4r5sz9kjs6x",
        "dU2bIVCBhFAm",
        "Mf82E4L7LAZY",
        "18Leyc5bZ_ar",
        "BjeB_-daaBTv",
        "03vDn6mdjEkH"
      ],
      "authorship_tag": "ABX9TyNyifpSyM1y3+xyCrX1Jyuj",
      "include_colab_link": true
    },
    "kernelspec": {
      "name": "python3",
      "display_name": "Python 3"
    },
    "language_info": {
      "name": "python"
    }
  },
  "cells": [
    {
      "cell_type": "markdown",
      "metadata": {
        "id": "view-in-github",
        "colab_type": "text"
      },
      "source": [
        "<a href=\"https://colab.research.google.com/github/StarDylan/FlowMatching/blob/main/MNIST_Latent_Space_Visualizations.ipynb\" target=\"_parent\"><img src=\"https://colab.research.google.com/assets/colab-badge.svg\" alt=\"Open In Colab\"/></a>"
      ]
    },
    {
      "cell_type": "markdown",
      "source": [
        "# Import Libraries"
      ],
      "metadata": {
        "id": "63i43JmOjrCp"
      }
    },
    {
      "cell_type": "code",
      "source": [
        "import numpy as np\n",
        "import pandas as pd\n",
        "import seaborn as sns\n",
        "import matplotlib.pyplot as plt\n",
        "\n",
        "from sklearn.preprocessing import normalize\n",
        "from sklearn.decomposition import PCA, KernelPCA\n",
        "from sklearn.manifold import TSNE\n",
        "from umap import UMAP\n",
        "\n",
        "from tensorflow.keras.datasets import mnist\n",
        "\n",
        "from sklearn.neighbors import KNeighborsClassifier\n",
        "from sklearn.model_selection import train_test_split\n",
        "from sklearn.metrics import f1_score, confusion_matrix, classification_report"
      ],
      "metadata": {
        "id": "tfM2DnzxJW9L"
      },
      "execution_count": 1,
      "outputs": []
    },
    {
      "cell_type": "markdown",
      "source": [
        "# Config"
      ],
      "metadata": {
        "id": "n4r5sz9kjs6x"
      }
    },
    {
      "cell_type": "code",
      "source": [
        "image_size = 28"
      ],
      "metadata": {
        "id": "SbcAkXs7MB21"
      },
      "execution_count": 2,
      "outputs": []
    },
    {
      "cell_type": "code",
      "source": [
        "def get_mnist_data():\n",
        "  (x_train, y_train), (x_test, y_test) = mnist.load_data()\n",
        "  x_train = x_train.astype('float32')\n",
        "  x_train /= 255\n",
        "  x_train = x_train * 2 - 1\n",
        "  x_test = x_test.astype('float32')\n",
        "  x_test /= 255\n",
        "  x_test = x_test * 2 - 1\n",
        "  return x_train, y_train, x_test, y_test"
      ],
      "metadata": {
        "id": "ZEXmxO0RW80h"
      },
      "execution_count": 3,
      "outputs": []
    },
    {
      "cell_type": "code",
      "source": [
        "X_train, y_train, X_test, y_test = get_mnist_data()"
      ],
      "metadata": {
        "colab": {
          "base_uri": "https://localhost:8080/"
        },
        "id": "n-4FlM3jXCFP",
        "outputId": "475910ef-e368-473d-d0a5-32bde03149c2"
      },
      "execution_count": 4,
      "outputs": [
        {
          "output_type": "stream",
          "name": "stdout",
          "text": [
            "Downloading data from https://storage.googleapis.com/tensorflow/tf-keras-datasets/mnist.npz\n",
            "\u001b[1m11490434/11490434\u001b[0m \u001b[32m━━━━━━━━━━━━━━━━━━━━\u001b[0m\u001b[37m\u001b[0m \u001b[1m0s\u001b[0m 0us/step\n"
          ]
        }
      ]
    },
    {
      "cell_type": "code",
      "source": [
        "components = [100, 200, 300, 400, 500] + list(range(501, 600, 5)) + [600, 784]\n",
        "flat_X_train = X_train[:1800].reshape(len(X_train[:1800]), -1)"
      ],
      "metadata": {
        "id": "YGy9LLeZmKTo"
      },
      "execution_count": 5,
      "outputs": []
    },
    {
      "cell_type": "markdown",
      "source": [
        "# Helpers"
      ],
      "metadata": {
        "id": "dU2bIVCBhFAm"
      }
    },
    {
      "cell_type": "code",
      "source": [
        "def knn_classifier_evaluation(reduced_data, y_train):\n",
        "  \"\"\"\n",
        "  Trains a KNN classifier on reduced data and outputs a classification report and confusion matrix.\n",
        "\n",
        "  Args:\n",
        "    reduced_data: The dimensionality-reduced data (e.g., output of repeated_umap).\n",
        "    y_train: The training labels.\n",
        "  \"\"\"\n",
        "  # Split data into training and testing sets for the KNN classifier\n",
        "  X_train_knn, X_test_knn, y_train_knn, y_test_knn = train_test_split(\n",
        "      reduced_data,\n",
        "      y_train[:reduced_data.shape[0]],\n",
        "      test_size=0.2,\n",
        "      random_state=42\n",
        "  )\n",
        "\n",
        "  # Train a KNN classifier\n",
        "  knn = KNeighborsClassifier(n_neighbors=5) # You can adjust n_neighbors\n",
        "  knn.fit(X_train_knn, y_train_knn)\n",
        "\n",
        "  # Make predictions\n",
        "  y_pred_knn = knn.predict(X_test_knn)\n",
        "\n",
        "  # Evaluate the model\n",
        "  print(\"Classification Report:\")\n",
        "  print(classification_report(y_test_knn, y_pred_knn))\n",
        "\n",
        "  print(\"\\nConfusion Matrix:\")\n",
        "  print(sns.heatmap(confusion_matrix(y_test_knn, y_pred_knn)))"
      ],
      "metadata": {
        "id": "JLcWeE3jk2xa"
      },
      "execution_count": 6,
      "outputs": []
    },
    {
      "cell_type": "code",
      "source": [
        "def method_performance_by_num_components(model_type, label:str):\n",
        "  X_train_reduced_sets = []\n",
        "  X_train_reconstructed_sets = []\n",
        "  errors = []\n",
        "\n",
        "  for component in components:\n",
        "    if label == \"KPCA\":\n",
        "      pca = model_type(n_components=component, fit_inverse_transform=True) # keep top k components that explain 95% for the variance\n",
        "    else:\n",
        "      pca = model_type(n_components=component) # keep top k components that explain 95% for the variance\n",
        "    X_train_reduced = pca.fit_transform(flat_X_train) # data transformed via pca\n",
        "    X_train_reduced_sets.append(X_train_reduced)\n",
        "    X_train_reconstructed = pca.inverse_transform(X_train_reduced) # data attempted to be reconstructed\n",
        "    X_train_reconstructed_sets.append(X_train_reconstructed)\n",
        "    error = ((flat_X_train - X_train_reconstructed)**2).mean() # get the mean squared error\n",
        "    errors.append(error)\n",
        "\n",
        "  # get the index with the min error\n",
        "  plt.plot(components, errors)\n",
        "  plt.xlabel(\"Num Comp\")\n",
        "  plt.ylabel(\"Error\")\n",
        "  plt.title(f\"{label} Num Component Comparison\")\n",
        "  plt.grid(True)\n",
        "  plt.show()"
      ],
      "metadata": {
        "id": "7lthY1Lbmd1X"
      },
      "execution_count": 7,
      "outputs": []
    },
    {
      "cell_type": "markdown",
      "source": [
        "# Dimensionality Reduction"
      ],
      "metadata": {
        "id": "TGjWvBKgjuYC"
      }
    },
    {
      "cell_type": "markdown",
      "source": [
        "## PCA"
      ],
      "metadata": {
        "id": "Mf82E4L7LAZY"
      }
    },
    {
      "cell_type": "code",
      "source": [
        "method_performance_by_num_components(PCA, label=\"PCA\")"
      ],
      "metadata": {
        "id": "_8HL7WIYYDNS"
      },
      "execution_count": null,
      "outputs": []
    },
    {
      "cell_type": "code",
      "source": [
        "X_train.shape"
      ],
      "metadata": {
        "id": "JR1RQ9b9bTk4"
      },
      "execution_count": null,
      "outputs": []
    },
    {
      "cell_type": "code",
      "source": [
        "PCA_model = PCA(n_components=10).fit(flat_X_train)\n",
        "\n",
        "explained_variance = PCA_model.explained_variance_ratio_\n",
        "plt.bar(range(10), explained_variance)\n",
        "plt.xlabel(\"Principal Component\")\n",
        "plt.ylabel(\"Explained Variance\")\n",
        "plt.title(\"PCA Explained Variance\")\n",
        "plt.grid(True)\n",
        "plt.show()"
      ],
      "metadata": {
        "id": "uIzWESScaMY2"
      },
      "execution_count": null,
      "outputs": []
    },
    {
      "cell_type": "code",
      "source": [
        "PCA_model = PCA(n_components=2).fit(flat_X_train)"
      ],
      "metadata": {
        "id": "voZDSl2ndDt4"
      },
      "execution_count": null,
      "outputs": []
    },
    {
      "cell_type": "code",
      "source": [
        "pca_embeddings = PCA_model.transform(flat_X_train)\n",
        "pca_embeddings_df = pd.DataFrame(pca_embeddings, columns=['PCA1', 'PCA2'])\n",
        "\n",
        "# Plot it (optional)\n",
        "plt.scatter(pca_embeddings_df['PCA1'], pca_embeddings_df['PCA2'], s=5)\n",
        "plt.title('PCA projection')\n",
        "plt.show()"
      ],
      "metadata": {
        "id": "amr3daxsdCk1"
      },
      "execution_count": null,
      "outputs": []
    },
    {
      "cell_type": "code",
      "source": [
        "knn_classifier_evaluation(pca_embeddings, y_train)"
      ],
      "metadata": {
        "id": "urs_r06ils8S"
      },
      "execution_count": null,
      "outputs": []
    },
    {
      "cell_type": "markdown",
      "source": [
        "## KPCA"
      ],
      "metadata": {
        "id": "18Leyc5bZ_ar"
      }
    },
    {
      "cell_type": "code",
      "source": [
        "method_performance_by_num_components(KernelPCA, label=\"KPCA\")"
      ],
      "metadata": {
        "id": "RYmANqvfQMdb"
      },
      "execution_count": null,
      "outputs": []
    },
    {
      "cell_type": "code",
      "source": [
        "KPCA_model = KernelPCA(n_components=2, fit_inverse_transform=True).fit(flat_X_train)"
      ],
      "metadata": {
        "id": "-z7igQajaaaH"
      },
      "execution_count": null,
      "outputs": []
    },
    {
      "cell_type": "code",
      "source": [
        "kpca_embeddings = KPCA_model.transform(flat_X_train)\n",
        "kpca_embeddings_df = pd.DataFrame(kpca_embeddings, columns=['KPCA1', 'KPCA2'])\n",
        "\n",
        "plt.scatter(kpca_embeddings_df['KPCA1'], kpca_embeddings_df['KPCA2'], s=5)\n",
        "plt.title('KPCA projection')\n",
        "plt.show()"
      ],
      "metadata": {
        "id": "ZW0WZdXqcyvh"
      },
      "execution_count": null,
      "outputs": []
    },
    {
      "cell_type": "code",
      "source": [
        "knn_classifier_evaluation(kpca_embeddings, y_train)"
      ],
      "metadata": {
        "id": "bA3JBdAJlb8i"
      },
      "execution_count": null,
      "outputs": []
    },
    {
      "cell_type": "markdown",
      "source": [
        "## UMAP"
      ],
      "metadata": {
        "id": "BjeB_-daaBTv"
      }
    },
    {
      "cell_type": "code",
      "source": [
        "method_performance_by_num_components(UMAP, label=\"UMAP\")"
      ],
      "metadata": {
        "id": "-DkdTHPdnMvO"
      },
      "execution_count": null,
      "outputs": []
    },
    {
      "cell_type": "code",
      "source": [
        "UMAP_model = UMAP(n_components=2, random_state=42).fit(flat_X_train)"
      ],
      "metadata": {
        "id": "4F7HeGMzarXa"
      },
      "execution_count": null,
      "outputs": []
    },
    {
      "cell_type": "code",
      "source": [
        "# Apply UMAP to reduce to 2 dimensions\n",
        "umap_embeddings = UMAP_model.transform(flat_X_train)\n",
        "umap_embeddings_df = pd.DataFrame(embedding, columns=['UMAP1', 'UMAP2'])\n",
        "\n",
        "# Plot it (optional)\n",
        "plt.scatter(umap_embeddings_df['UMAP1'], umap_embeddings_df['UMAP2'], s=5)\n",
        "plt.title('UMAP projection')\n",
        "plt.show()"
      ],
      "metadata": {
        "id": "IjiztzRQZGub"
      },
      "execution_count": null,
      "outputs": []
    },
    {
      "cell_type": "code",
      "source": [
        "knn_classifier_evaluation(umap_embeddings, y_train)"
      ],
      "metadata": {
        "id": "FnfuJ1zgk8oc"
      },
      "execution_count": null,
      "outputs": []
    },
    {
      "cell_type": "markdown",
      "source": [
        "## Repeated UMAP"
      ],
      "metadata": {
        "id": "03vDn6mdjEkH"
      }
    },
    {
      "cell_type": "code",
      "source": [
        "def repeated_umap(X, n_components:int):\n",
        "  UMAP_embeddings = UMAP(n_components=n_components, random_state=42).fit_transform(X)\n",
        "  print(f\"n_components: {n_components}\")\n",
        "\n",
        "  if n_components <= 2:\n",
        "    plt.scatter(UMAP_embeddings[:, 0], UMAP_embeddings[:, 1], s=5)\n",
        "    plt.title('UMAP projection')\n",
        "    plt.show()\n",
        "    return UMAP_embeddings\n",
        "\n",
        "  else:\n",
        "    return repeated_umap(\n",
        "        UMAP_embeddings,\n",
        "        n_components // 2 if n_components > 3 else 2\n",
        "    )"
      ],
      "metadata": {
        "id": "aNhVFeOHjEHI"
      },
      "execution_count": null,
      "outputs": []
    },
    {
      "cell_type": "code",
      "source": [
        "repeated_umap_embeddings = repeated_umap(flat_X_train, 64)"
      ],
      "metadata": {
        "id": "jdnGOYBuejLl"
      },
      "execution_count": null,
      "outputs": []
    },
    {
      "cell_type": "code",
      "source": [
        "knn_classifier_evaluation(repeated_umap_embeddings, y_train)"
      ],
      "metadata": {
        "id": "2O3ZY5iAkS5C"
      },
      "execution_count": null,
      "outputs": []
    },
    {
      "cell_type": "markdown",
      "source": [
        "## Variational autoencoder for further dimensionality reduction\n",
        "Run autoencoder to get information into nicer 2d representation"
      ],
      "metadata": {
        "id": "sbEpkBLTncnX"
      }
    },
    {
      "cell_type": "code",
      "source": [],
      "metadata": {
        "id": "dOjNgLKwnd0q"
      },
      "execution_count": null,
      "outputs": []
    },
    {
      "cell_type": "markdown",
      "source": [
        "# Preprocessing"
      ],
      "metadata": {
        "id": "XRvXG4YEj07W"
      }
    },
    {
      "cell_type": "code",
      "source": [
        "print(X_train.shape)\n",
        "for i in range(5):\n",
        "  plt.subplot(1, 5, i+1)\n",
        "  plt.imshow(X_train[i])\n",
        "  plt.axis('off')\n",
        "plt.show()"
      ],
      "metadata": {
        "id": "p5OF9dG7NCyl"
      },
      "execution_count": null,
      "outputs": []
    },
    {
      "cell_type": "code",
      "source": [
        "reduced_mnist = normalize(UMAP_model.transform(flat_X_train))\n",
        "reduced_mnist_df = pd.DataFrame(reduced_mnist)"
      ],
      "metadata": {
        "id": "lp7nzkG0jxE_"
      },
      "execution_count": null,
      "outputs": []
    },
    {
      "cell_type": "code",
      "source": [
        "reduced_mnist_df.head()"
      ],
      "metadata": {
        "id": "eJQHCps7MgRw"
      },
      "execution_count": null,
      "outputs": []
    },
    {
      "cell_type": "markdown",
      "source": [
        "# Visualizations\n",
        "Show samples from that latent space"
      ],
      "metadata": {
        "id": "rss5uJoJkFMl"
      }
    },
    {
      "cell_type": "code",
      "source": [],
      "metadata": {
        "id": "3WuHLqR7kHBf"
      },
      "execution_count": null,
      "outputs": []
    }
  ]
}